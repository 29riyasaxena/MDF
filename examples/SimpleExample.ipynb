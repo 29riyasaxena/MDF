{
 "cells": [
  {
   "cell_type": "markdown",
   "id": "87a95dcf",
   "metadata": {},
   "source": [
    "# Creating and excecuting MDF models\n",
    "\n",
    "This is a quick introduction to building MDF graphs and using them in different scenarios.\n",
    "\n",
    "1. **[Create a Model containing a Graph](#h1)**\n",
    "2. **[Generate a graph image from the model](#h2)**\n",
    "3. **[Execute the graph & print the output values](#h3)**\n",
    "\n",
    "\n",
    "## 1. Create a [Model](https://mdf.readthedocs.io/en/latest/api/Specification.html#model) containing a [Graph](https://mdf.readthedocs.io/en/latest/api/Specification.html#graph) <a class=\"anchor\" id=\"h1\"></a>\n"
   ]
  },
  {
   "cell_type": "code",
   "execution_count": null,
   "id": "24aeb1e4",
   "metadata": {},
   "outputs": [],
   "source": [
    "from modeci_mdf.mdf import *\n",
    "\n",
    "# Create a model containing one graph\n",
    "mod = Model(id=\"AB\")\n",
    "mod_graph = Graph(id=\"ab_example\")\n",
    "mod.graphs.append(mod_graph)\n"
   ]
  },
  {
   "cell_type": "markdown",
   "id": "6e3424b7",
   "metadata": {},
   "source": [
    "\n",
    "### 1.1 Create the first [Node](https://mdf.readthedocs.io/en/latest/api/Specification.html#node)"
   ]
  },
  {
   "cell_type": "code",
   "execution_count": null,
   "id": "a901b65d",
   "metadata": {},
   "outputs": [],
   "source": [
    "# Create a node\n",
    "a_node = Node(id=\"A\", metadata={\"color\": \"0 .8 0\"})\n",
    "\n",
    "# Add a parameter with a specific value\n",
    "a_node.parameters.append(Parameter(id=\"level\", value=1.0))\n",
    "\n",
    "# Add an output port\n",
    "a_node.output_ports.append(OutputPort(id=\"output\", value = \"level\"))\n",
    "\n",
    "# Add node to the graph\n",
    "mod_graph.nodes.append(a_node)\n",
    "\n",
    "# Print current structure as YAML\n",
    "print(mod_graph.to_yaml())"
   ]
  },
  {
   "cell_type": "markdown",
   "id": "46c51277",
   "metadata": {},
   "source": [
    "### 1.2 Create another [Node](https://mdf.readthedocs.io/en/latest/api/Specification.html#node)"
   ]
  },
  {
   "cell_type": "code",
   "execution_count": null,
   "id": "1580a79e",
   "metadata": {},
   "outputs": [],
   "source": [
    "b_node = Node(id=\"B\", metadata={\"color\": \".8 0 0\"})\n",
    "mod_graph.nodes.append(b_node)\n",
    "\n",
    "# Add an input port\n",
    "b_node.input_ports.append(InputPort(id=\"input\"))\n",
    "\n",
    "# Add some parameters\n",
    "b_node.parameters.append(Parameter(id=\"slope\", value=1.2))\n",
    "b_node.parameters.append(Parameter(id=\"intercept\", value=3))\n",
    "\n",
    "\n",
    "# Add a parameter which used the internal parameter as well as the value from the input\n",
    "p1 = Parameter(\n",
    "    id=\"linear_func\",\n",
    "    value=\"input * slope + intercept\",\n",
    ")\n",
    "b_node.parameters.append(p1)\n",
    "\n",
    "# Add an output port\n",
    "b_node.output_ports.append(OutputPort(id=\"output\", value=\"linear_func\"))\n"
   ]
  },
  {
   "cell_type": "markdown",
   "id": "a6c98662",
   "metadata": {},
   "source": [
    "### 1.3 Create an  [Edge](https://mdf.readthedocs.io/en/latest/api/Specification.html#edge) between the [Nodes](https://mdf.readthedocs.io/en/latest/api/Specification.html#node)"
   ]
  },
  {
   "cell_type": "code",
   "execution_count": null,
   "id": "20b8a6b7",
   "metadata": {},
   "outputs": [],
   "source": [
    "# This helper method just adds an edge connecting the first output port of \n",
    "# the pre node to the first input port of the post node\n",
    "from modeci_mdf.utils import simple_connect\n",
    "\n",
    "e1 = simple_connect(a_node, b_node, mod_graph)\n",
    "\n",
    "# Print the current structure\n",
    "print(mod_graph.to_yaml())\n"
   ]
  },
  {
   "cell_type": "markdown",
   "id": "2b8c8f85",
   "metadata": {},
   "source": [
    "### 1.4 Save the model to file\n",
    "\n",
    "The model can be saved to a file (serialized) in either JSON or YAML format."
   ]
  },
  {
   "cell_type": "code",
   "execution_count": null,
   "id": "e50d9aab",
   "metadata": {},
   "outputs": [],
   "source": [
    "mod.to_json_file(\"AB.json\")\n",
    "mod.to_yaml_file(\"AB.yaml\")"
   ]
  },
  {
   "cell_type": "markdown",
   "id": "cdfc66f8",
   "metadata": {},
   "source": [
    "## 2. Generate a graph image from the model <a class=\"anchor\" id=\"h2\"></a>\n",
    "\n",
    "We will use a method on the model to generate an image representing the structure of the graph.\n"
   ]
  },
  {
   "cell_type": "code",
   "execution_count": null,
   "id": "69740bde",
   "metadata": {},
   "outputs": [],
   "source": [
    "mod.to_graph_image(\n",
    "        engine=\"dot\",\n",
    "        output_format=\"png\",\n",
    "        view_on_render=False,\n",
    "        level=3,\n",
    "        filename_root=\"AB\"\n",
    "    )\n",
    "\n",
    "from IPython.display import Image\n",
    "Image(filename=\"AB.png\")"
   ]
  },
  {
   "cell_type": "markdown",
   "id": "b6b8aae3",
   "metadata": {},
   "source": [
    "## 3. Execute the graph & print the output values <a class=\"anchor\" id=\"h3\"></a>\n",
    "\n",
    "The Graph is converted to an EvaluableGraph, which can be used to evaluate the current state of the graph's parameters. "
   ]
  },
  {
   "cell_type": "markdown",
   "id": "ece9b9e5",
   "metadata": {},
   "source": [
    "### 3.1 Execute the graph with the current parameter values "
   ]
  },
  {
   "cell_type": "code",
   "execution_count": null,
   "id": "543006ef",
   "metadata": {},
   "outputs": [],
   "source": [
    "from modeci_mdf.execution_engine import EvaluableGraph\n",
    "\n",
    "eg = EvaluableGraph(mod_graph, verbose=False)\n",
    "eg.evaluate()\n",
    "\n",
    "print('Output of A: %s'%eg.enodes[\"A\"].evaluable_outputs[\"output\"].curr_value)\n",
    "print('Output of B: %s'%eg.enodes[\"B\"].evaluable_outputs[\"output\"].curr_value)"
   ]
  },
  {
   "cell_type": "markdown",
   "id": "87824063",
   "metadata": {},
   "source": [
    "### 3.2 Change a value to a Numpy array & execute the graph again"
   ]
  },
  {
   "cell_type": "code",
   "execution_count": null,
   "id": "e9142f37",
   "metadata": {},
   "outputs": [],
   "source": [
    "import numpy as np \n",
    "a_node.get_parameter('level').value = np.array([[1,2],[3,4]])\n",
    "\n",
    "eg.evaluate()\n",
    "\n",
    "print('Output of A:\\n%s'%eg.enodes[\"A\"].evaluable_outputs[\"output\"].curr_value)\n",
    "print('Output of B:\\n%s'%eg.enodes[\"B\"].evaluable_outputs[\"output\"].curr_value)"
   ]
  },
  {
   "cell_type": "markdown",
   "id": "c2b768a1",
   "metadata": {},
   "source": [
    "# 4. Modifying above Examples"
   ]
  },
  {
   "cell_type": "markdown",
   "id": "fb156aba",
   "metadata": {},
   "source": [
    "### 4.1 A model containing a graph"
   ]
  },
  {
   "cell_type": "code",
   "execution_count": null,
   "id": "088b1ec3",
   "metadata": {},
   "outputs": [],
   "source": [
    "mod = Model(id=\"States\")\n",
    "mod_graph = Graph(id=\"state_example\")\n",
    "mod.graphs.append(mod_graph)"
   ]
  },
  {
   "cell_type": "markdown",
   "id": "ba742f46",
   "metadata": {},
   "source": [
    "### 4.2 Counter node"
   ]
  },
  {
   "cell_type": "code",
   "execution_count": null,
   "id": "1c93392e",
   "metadata": {},
   "outputs": [],
   "source": [
    "counter_node = Node(id=\"counter_node\")"
   ]
  },
  {
   "cell_type": "markdown",
   "id": "f040b35e",
   "metadata": {},
   "source": [
    "### 4.2.1 Add parameters to counter node and append them to the graph"
   ]
  },
  {
   "cell_type": "code",
   "execution_count": null,
   "id": "17415140",
   "metadata": {},
   "outputs": [],
   "source": [
    "#parameter 1\n",
    "p1 = Parameter(id=\"increment\", value=1)\n",
    "counter_node.parameters.append(p1)\n",
    "#parameter 2\n",
    "p2 = Parameter(id=\"count\", value=\"count + increment\")\n",
    "counter_node.parameters.append(p2)"
   ]
  },
  {
   "cell_type": "markdown",
   "id": "4cc96ef3",
   "metadata": {},
   "source": [
    "### 4.2.2 Creating an output port for counter node"
   ]
  },
  {
   "cell_type": "code",
   "execution_count": null,
   "id": "b151f592",
   "metadata": {},
   "outputs": [],
   "source": [
    "op1 = OutputPort(id=\"out_port\", value=p2.id)\n",
    "counter_node.output_ports.append(op1)"
   ]
  },
  {
   "cell_type": "markdown",
   "id": "5d0969b9",
   "metadata": {},
   "source": [
    "### 4.2.3 Append the counter node to the graph"
   ]
  },
  {
   "cell_type": "code",
   "execution_count": null,
   "id": "e26f7b9c",
   "metadata": {},
   "outputs": [],
   "source": [
    "mod_graph.nodes.append(counter_node)"
   ]
  },
  {
   "cell_type": "markdown",
   "id": "684defba",
   "metadata": {},
   "source": [
    "### 4.3 Sine node"
   ]
  },
  {
   "cell_type": "code",
   "execution_count": null,
   "id": "309cbe8f",
   "metadata": {},
   "outputs": [],
   "source": [
    "sine_node = Node(id=\"sine_node\")"
   ]
  },
  {
   "cell_type": "markdown",
   "id": "ccce0251",
   "metadata": {},
   "source": [
    "### 4.3.1 Define sine node parameters and append them to the graph"
   ]
  },
  {
   "cell_type": "code",
   "execution_count": null,
   "id": "2ce69af6",
   "metadata": {},
   "outputs": [],
   "source": [
    "sine_node.parameters.append(Parameter(id=\"amp\", value=3))\n",
    "sine_node.parameters.append(Parameter(id=\"period\", value=0.4))\n",
    "\n",
    "s1 = Parameter(    \n",
    "id=\"level\", default_initial_value=0, time_derivative=\"distance/time\")\n",
    "sine_node.parameters.append(s1)\n",
    "\n",
    "s2 = Parameter(    \n",
    "id=\"distance\",\n",
    "default_initial_value=1,\n",
    "time_derivative=\"-1 * level/time\",)\n",
    "sine_node.parameters.append(s2)"
   ]
  },
  {
   "cell_type": "markdown",
   "id": "ea46a427",
   "metadata": {},
   "source": [
    "### 4.3.2 Creating an output port for sine node"
   ]
  },
  {
   "cell_type": "code",
   "execution_count": null,
   "id": "7ec6d4d6",
   "metadata": {},
   "outputs": [],
   "source": [
    "op1 = OutputPort(id=\"out_port\", value=\"amp * level\")\n",
    "sine_node.output_ports.append(op1)"
   ]
  },
  {
   "cell_type": "markdown",
   "id": "a8660b3f",
   "metadata": {},
   "source": [
    "### 4.3.3 Append the sine node to graph"
   ]
  },
  {
   "cell_type": "code",
   "execution_count": null,
   "id": "4ad7ffe9",
   "metadata": {},
   "outputs": [],
   "source": [
    "mod_graph.nodes.append(sine_node)"
   ]
  },
  {
   "cell_type": "markdown",
   "id": "3753f997",
   "metadata": {},
   "source": [
    "### 4.4 Save the model to a file"
   ]
  },
  {
   "cell_type": "code",
   "execution_count": null,
   "id": "3f78cea3",
   "metadata": {},
   "outputs": [],
   "source": [
    "new_file = mod.to_json_file(\"%s.json\" % mod.id)\n",
    "new_file = mod.to_yaml_file(\"%s.yaml\" % mod.id)"
   ]
  },
  {
   "cell_type": "markdown",
   "id": "bbfd7ff9",
   "metadata": {},
   "source": [
    "### 4.5 Generate a graph image from the model"
   ]
  },
  {
   "cell_type": "code",
   "execution_count": null,
   "id": "b23fac78",
   "metadata": {},
   "outputs": [],
   "source": [
    "if \"-run\" in sys.argv:\n",
    "    verbose = True\n",
    "    # verbose = False\n",
    "    #import libraries\n",
    "    from modeci_mdf.utils import load_mdf, print_summary    \n",
    "    from modeci_mdf.execution_engine import EvaluableGraph\n",
    "    #define parameters\n",
    "    eg = EvaluableGraph(mod_graph, verbose)\n",
    "    dt = 0.01\n",
    "    duration = 2\n",
    "    t = 0\n",
    "    recorded = {}\n",
    "    times = []\n",
    "    s = []\n",
    "    #set conditions\n",
    "    while t <= duration:\n",
    "        times.append(t)\n",
    "        print(\"======   Evaluating at t = %s  ======\" % (t))\n",
    "        if t == 0:\n",
    "            eg.evaluate()  \n",
    "        else:\n",
    "        eg.evaluate(time_increment=dt)\n",
    "        s.append(eg.enodes[\"sine_node\"].evaluable_outputs[\"out_port\"].curr_value)\n",
    "        t += dt\n",
    "    if \"-nogui\" not in sys.argv:\n",
    "        import matplotlib.pyplot as plt\n",
    "        plt.plot(times, s)\n",
    "        plt.show()\n",
    "if \"-graph\" in sys.argv:\n",
    "    mod.to_graph_image(\n",
    "            engine=\"dot\",\n",
    "            output_format=\"png\",\n",
    "            view_on_render=False,\n",
    "            level=1,\n",
    "            filename_root=\"abcd\",\n",
    "            only_warn_on_fail=True,  \n",
    "            )\n",
    "    mod.to_graph_image(\n",
    "        engine=\"dot\",\n",
    "        output_format=\"png\",\n",
    "        view_on_render=False,\n",
    "        level=3,\n",
    "        filename_root=\"states\",\n",
    "        only_warn_on_fail=True,\n",
    "        )"
   ]
  }
 ],
 "metadata": {
  "kernelspec": {
   "display_name": "Python 3 (ipykernel)",
   "language": "python",
   "name": "python3"
  },
  "language_info": {
   "codemirror_mode": {
    "name": "ipython",
    "version": 3
   },
   "file_extension": ".py",
   "mimetype": "text/x-python",
   "name": "python",
   "nbconvert_exporter": "python",
   "pygments_lexer": "ipython3",
   "version": "3.8.10"
  }
 },
 "nbformat": 4,
 "nbformat_minor": 5
}
